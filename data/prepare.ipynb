{
 "cells": [
  {
   "cell_type": "code",
   "execution_count": 3,
   "id": "d2df7005",
   "metadata": {},
   "outputs": [],
   "source": [
    "import pandas as pd"
   ]
  },
  {
   "cell_type": "code",
   "execution_count": 4,
   "id": "36d447a2",
   "metadata": {},
   "outputs": [
    {
     "data": {
      "text/html": [
       "<div>\n",
       "<style scoped>\n",
       "    .dataframe tbody tr th:only-of-type {\n",
       "        vertical-align: middle;\n",
       "    }\n",
       "\n",
       "    .dataframe tbody tr th {\n",
       "        vertical-align: top;\n",
       "    }\n",
       "\n",
       "    .dataframe thead th {\n",
       "        text-align: right;\n",
       "    }\n",
       "</style>\n",
       "<table border=\"1\" class=\"dataframe\">\n",
       "  <thead>\n",
       "    <tr style=\"text-align: right;\">\n",
       "      <th></th>\n",
       "      <th>problem</th>\n",
       "      <th>level</th>\n",
       "      <th>type</th>\n",
       "      <th>solution</th>\n",
       "      <th>answer</th>\n",
       "    </tr>\n",
       "  </thead>\n",
       "  <tbody>\n",
       "    <tr>\n",
       "      <th>0</th>\n",
       "      <td>The United States Postal Service charges an ex...</td>\n",
       "      <td>Level 3</td>\n",
       "      <td>Prealgebra</td>\n",
       "      <td>We calculate the desired ratio for each envelo...</td>\n",
       "      <td>3</td>\n",
       "    </tr>\n",
       "    <tr>\n",
       "      <th>1</th>\n",
       "      <td>How many integers between 1000 and 2000 have a...</td>\n",
       "      <td>Level 4</td>\n",
       "      <td>Prealgebra</td>\n",
       "      <td>A number with 15, 20 and 25 as factors must be...</td>\n",
       "      <td>3</td>\n",
       "    </tr>\n",
       "    <tr>\n",
       "      <th>2</th>\n",
       "      <td>Given that $n$ is an integer and $0 &lt; 4n &lt;30$,...</td>\n",
       "      <td>Level 2</td>\n",
       "      <td>Prealgebra</td>\n",
       "      <td>Dividing by $4$, we have $0&lt;n&lt;7\\frac{1}{2}$. T...</td>\n",
       "      <td>28</td>\n",
       "    </tr>\n",
       "    <tr>\n",
       "      <th>3</th>\n",
       "      <td>How many integers between $100$ and $150$ have...</td>\n",
       "      <td>Level 4</td>\n",
       "      <td>Prealgebra</td>\n",
       "      <td>We will break up the problem into cases based ...</td>\n",
       "      <td>18</td>\n",
       "    </tr>\n",
       "    <tr>\n",
       "      <th>4</th>\n",
       "      <td>Regular pentagon $ABCDE$ and regular hexagon $...</td>\n",
       "      <td>Level 4</td>\n",
       "      <td>Prealgebra</td>\n",
       "      <td>We know that the sum of the degree measures of...</td>\n",
       "      <td>132</td>\n",
       "    </tr>\n",
       "    <tr>\n",
       "      <th>...</th>\n",
       "      <td>...</td>\n",
       "      <td>...</td>\n",
       "      <td>...</td>\n",
       "      <td>...</td>\n",
       "      <td>...</td>\n",
       "    </tr>\n",
       "    <tr>\n",
       "      <th>12493</th>\n",
       "      <td>Compute the smallest positive integer $x$ grea...</td>\n",
       "      <td>Level 4</td>\n",
       "      <td>Intermediate Algebra</td>\n",
       "      <td>Let $q$ and $r$ be the remainder when $x$ is d...</td>\n",
       "      <td>1700</td>\n",
       "    </tr>\n",
       "    <tr>\n",
       "      <th>12494</th>\n",
       "      <td>For positive real numbers $a,$ $b,$ $c,$ and $...</td>\n",
       "      <td>Level 5</td>\n",
       "      <td>Intermediate Algebra</td>\n",
       "      <td>Let $S$ denote the given sum.  First, we apply...</td>\n",
       "      <td>9</td>\n",
       "    </tr>\n",
       "    <tr>\n",
       "      <th>12495</th>\n",
       "      <td>Let $a,$ $b,$ and $c$ be positive real numbers...</td>\n",
       "      <td>Level 5</td>\n",
       "      <td>Intermediate Algebra</td>\n",
       "      <td>By AM-GM,\\n\\[(a - b) + b + \\frac{c^3}{(a - b)b...</td>\n",
       "      <td>12</td>\n",
       "    </tr>\n",
       "    <tr>\n",
       "      <th>12496</th>\n",
       "      <td>The complex numbers $a$ and $b$ satisfy\\n\\[a \\...</td>\n",
       "      <td>Level 3</td>\n",
       "      <td>Intermediate Algebra</td>\n",
       "      <td>Taking the conjugate of both sides, we get\\n\\[...</td>\n",
       "      <td>-1 - 5i</td>\n",
       "    </tr>\n",
       "    <tr>\n",
       "      <th>12497</th>\n",
       "      <td>Determine the complex number $z$ satisfying th...</td>\n",
       "      <td>Level 3</td>\n",
       "      <td>Intermediate Algebra</td>\n",
       "      <td>Let $z=a+bi$, where $a$ and $b$ are real numbe...</td>\n",
       "      <td>-5+4i</td>\n",
       "    </tr>\n",
       "  </tbody>\n",
       "</table>\n",
       "<p>12498 rows × 5 columns</p>\n",
       "</div>"
      ],
      "text/plain": [
       "                                                 problem    level  \\\n",
       "0      The United States Postal Service charges an ex...  Level 3   \n",
       "1      How many integers between 1000 and 2000 have a...  Level 4   \n",
       "2      Given that $n$ is an integer and $0 < 4n <30$,...  Level 2   \n",
       "3      How many integers between $100$ and $150$ have...  Level 4   \n",
       "4      Regular pentagon $ABCDE$ and regular hexagon $...  Level 4   \n",
       "...                                                  ...      ...   \n",
       "12493  Compute the smallest positive integer $x$ grea...  Level 4   \n",
       "12494  For positive real numbers $a,$ $b,$ $c,$ and $...  Level 5   \n",
       "12495  Let $a,$ $b,$ and $c$ be positive real numbers...  Level 5   \n",
       "12496  The complex numbers $a$ and $b$ satisfy\\n\\[a \\...  Level 3   \n",
       "12497  Determine the complex number $z$ satisfying th...  Level 3   \n",
       "\n",
       "                       type  \\\n",
       "0                Prealgebra   \n",
       "1                Prealgebra   \n",
       "2                Prealgebra   \n",
       "3                Prealgebra   \n",
       "4                Prealgebra   \n",
       "...                     ...   \n",
       "12493  Intermediate Algebra   \n",
       "12494  Intermediate Algebra   \n",
       "12495  Intermediate Algebra   \n",
       "12496  Intermediate Algebra   \n",
       "12497  Intermediate Algebra   \n",
       "\n",
       "                                                solution   answer  \n",
       "0      We calculate the desired ratio for each envelo...        3  \n",
       "1      A number with 15, 20 and 25 as factors must be...        3  \n",
       "2      Dividing by $4$, we have $0<n<7\\frac{1}{2}$. T...       28  \n",
       "3      We will break up the problem into cases based ...       18  \n",
       "4      We know that the sum of the degree measures of...      132  \n",
       "...                                                  ...      ...  \n",
       "12493  Let $q$ and $r$ be the remainder when $x$ is d...     1700  \n",
       "12494  Let $S$ denote the given sum.  First, we apply...        9  \n",
       "12495  By AM-GM,\\n\\[(a - b) + b + \\frac{c^3}{(a - b)b...       12  \n",
       "12496  Taking the conjugate of both sides, we get\\n\\[...  -1 - 5i  \n",
       "12497  Let $z=a+bi$, where $a$ and $b$ are real numbe...    -5+4i  \n",
       "\n",
       "[12498 rows x 5 columns]"
      ]
     },
     "execution_count": 4,
     "metadata": {},
     "output_type": "execute_result"
    }
   ],
   "source": [
    "df1 = pd.read_csv(\"train.csv\")\n",
    "df2 = pd.read_csv(\"test.csv\")\n",
    "\n",
    "# Combine test and train datasets\n",
    "df = pd.concat([df1, df2], ignore_index=True)\n",
    "df"
   ]
  },
  {
   "cell_type": "code",
   "execution_count": 5,
   "id": "06d6677d",
   "metadata": {},
   "outputs": [
    {
     "name": "stdout",
     "output_type": "stream",
     "text": [
      "4753\n",
      "Question: ----------------------------------------------------\n",
      "What is the sum of all integer solutions to $|n| < |n-3| < 9$?\n",
      "Solution: ----------------------------------------------------\n",
      "First let's solve $|n-3|<9$.  The absolute value of a quantity is less than 9 if and only if the quantity is between $-9$ and 9, so solve \\[\n",
      "\\begin{array}{r@{\\;\\;<\\;\\;}c@{\\;\\;<\\;\\;}lc}\n",
      "-9 & n-3 & 9 &\\quad \\implies \\\\\n",
      "-9+3 & n & 9+3 &\\quad \\implies \\\\\n",
      "-6 & n & 12.\n",
      "\\end{array}\n",
      "\\] Now consider $|n|<|n-3|$.  The distance from $n$ to 0 is $|n|$, and the distance from $n$ to 3 is $|n-3|$.  Therefore, this inequality is satisfied by the numbers that are closer to 0 than to 3.  These are the numbers less than $1.5$.  So the integer solutions of $|n|<|n-3|<9$ are $-5$, $-4$, $-3$, $-2$, $-1$, 0, and 1, and their sum is $-5-4-3-2=\\boxed{-14}$.\n"
     ]
    }
   ],
   "source": [
    "import random\n",
    "\n",
    "idx = random.randrange(df.shape[0])\n",
    "\n",
    "print(idx)\n",
    "\n",
    "print(\"Question: ----------------------------------------------------\")\n",
    "print(df['problem'][idx])\n",
    "print(\"Solution: ----------------------------------------------------\")\n",
    "print(df['solution'][idx])"
   ]
  },
  {
   "cell_type": "code",
   "execution_count": 113,
   "id": "a81d5907",
   "metadata": {},
   "outputs": [],
   "source": [
    "from langchain.vectorstores import Chroma\n",
    "from langchain.embeddings import HuggingFaceEmbeddings\n",
    "from langchain.schema import Document\n",
    "\n",
    "documents = []\n",
    "\n",
    "for _, row in df.iterrows():\n",
    "    doc = Document(\n",
    "        page_content=row['problem'],  # what gets embedded\n",
    "        metadata={'solution': row['solution']}\n",
    "    )\n",
    "    documents.append(doc)"
   ]
  },
  {
   "cell_type": "code",
   "execution_count": 127,
   "id": "8fe09898",
   "metadata": {},
   "outputs": [],
   "source": [
    "embedding_model = HuggingFaceEmbeddings(model_name=\"all-MiniLM-L6-v2\")\n",
    "\n",
    "# Create or load Chroma DB\n",
    "vectordb = Chroma.from_documents(\n",
    "    documents=documents,\n",
    "    embedding=embedding_model,\n",
    "    persist_directory=\"./math_db\",\n",
    "    collection_metadata={\"hnsw:space\": \"cosine\"} \n",
    ")\n",
    "\n",
    "vectordb.persist()"
   ]
  },
  {
   "cell_type": "code",
   "execution_count": 131,
   "id": "af142694",
   "metadata": {},
   "outputs": [
    {
     "name": "stdout",
     "output_type": "stream",
     "text": [
      "Question: What is $\\left(\\frac{6}{7}\\right)^2 \\cdot \\left(\\frac{1}{2}\\right)^2$?\n",
      "Answer: Since $\\left(\\frac{a}{b}\\right)^j \\cdot \\left(\\frac{c}{d}\\right)^j = \\left(\\frac{a \\cdot c}{b \\cdot d}\\right)^{j}$, we know  $\\left(\\frac{6}{7}\\right)^2 \\cdot \\left(\\frac{1}{2}\\right)^2 = \\left(\\frac{6 \\cdot 1}{7 \\cdot 2}\\right)^2$.  Simplifying, we have $\\left(\\frac{3}{7}\\right)^2 = \\frac{3^2}{7^2}$, because $\\left(\\frac{a}{b}\\right)^n = \\frac{a^n}{b^n}$.  We know $3^2 = 9$ and $7^2 = 49$, so our answer is $\\boxed{\\frac{9}{49}}$.\n",
      "Score: 0.20752115252566472\n",
      "\n",
      "Question: What is $\\left(\\frac{6}{7}\\right)^2 \\cdot \\left(\\frac{1}{2}\\right)^2$?\n",
      "Answer: Since $\\left(\\frac{a}{b}\\right)^j \\cdot \\left(\\frac{c}{d}\\right)^j = \\left(\\frac{a \\cdot c}{b \\cdot d}\\right)^{j}$, we know  $\\left(\\frac{6}{7}\\right)^2 \\cdot \\left(\\frac{1}{2}\\right)^2 = \\left(\\frac{6 \\cdot 1}{7 \\cdot 2}\\right)^2$.  Simplifying, we have $\\left(\\frac{3}{7}\\right)^2 = \\frac{3^2}{7^2}$, because $\\left(\\frac{a}{b}\\right)^n = \\frac{a^n}{b^n}$.  We know $3^2 = 9$ and $7^2 = 49$, so our answer is $\\boxed{\\frac{9}{49}}$.\n",
      "Score: 0.20752115252566472\n",
      "\n"
     ]
    }
   ],
   "source": [
    "query = \"What's the integral of x^2?\"\n",
    "results = vectordb.similarity_search_with_relevance_scores(query, k=2)\n",
    "\n",
    "for doc, score in results:\n",
    "    print(f\"Question: {doc.page_content}\")\n",
    "    print(f\"Answer: {doc.metadata['solution']}\")\n",
    "    print(f\"Score: {score}\\n\")"
   ]
  },
  {
   "cell_type": "code",
   "execution_count": 129,
   "id": "90504b6e",
   "metadata": {},
   "outputs": [
    {
     "data": {
      "text/plain": [
       "[Document(metadata={'solution': 'Since $\\\\left(\\\\frac{a}{b}\\\\right)^j \\\\cdot \\\\left(\\\\frac{c}{d}\\\\right)^j = \\\\left(\\\\frac{a \\\\cdot c}{b \\\\cdot d}\\\\right)^{j}$, we know  $\\\\left(\\\\frac{6}{7}\\\\right)^2 \\\\cdot \\\\left(\\\\frac{1}{2}\\\\right)^2 = \\\\left(\\\\frac{6 \\\\cdot 1}{7 \\\\cdot 2}\\\\right)^2$.  Simplifying, we have $\\\\left(\\\\frac{3}{7}\\\\right)^2 = \\\\frac{3^2}{7^2}$, because $\\\\left(\\\\frac{a}{b}\\\\right)^n = \\\\frac{a^n}{b^n}$.  We know $3^2 = 9$ and $7^2 = 49$, so our answer is $\\\\boxed{\\\\frac{9}{49}}$.'}, page_content='What is $\\\\left(\\\\frac{6}{7}\\\\right)^2 \\\\cdot \\\\left(\\\\frac{1}{2}\\\\right)^2$?'),\n",
       " Document(metadata={'solution': 'Since $\\\\left(\\\\frac{a}{b}\\\\right)^j \\\\cdot \\\\left(\\\\frac{c}{d}\\\\right)^j = \\\\left(\\\\frac{a \\\\cdot c}{b \\\\cdot d}\\\\right)^{j}$, we know  $\\\\left(\\\\frac{6}{7}\\\\right)^2 \\\\cdot \\\\left(\\\\frac{1}{2}\\\\right)^2 = \\\\left(\\\\frac{6 \\\\cdot 1}{7 \\\\cdot 2}\\\\right)^2$.  Simplifying, we have $\\\\left(\\\\frac{3}{7}\\\\right)^2 = \\\\frac{3^2}{7^2}$, because $\\\\left(\\\\frac{a}{b}\\\\right)^n = \\\\frac{a^n}{b^n}$.  We know $3^2 = 9$ and $7^2 = 49$, so our answer is $\\\\boxed{\\\\frac{9}{49}}$.'}, page_content='What is $\\\\left(\\\\frac{6}{7}\\\\right)^2 \\\\cdot \\\\left(\\\\frac{1}{2}\\\\right)^2$?'),\n",
       " Document(metadata={'solution': '$(i/2)^2 = (i^2)/(2^2) = (-1)/4 = \\\\boxed{-\\\\frac{1}{4}}$'}, page_content='Evaluate $\\\\left(\\\\frac{i}{2}\\\\right)^2$.'),\n",
       " Document(metadata={'solution': '$(i/2)^2 = (i^2)/(2^2) = (-1)/4 = \\\\boxed{-\\\\frac{1}{4}}$'}, page_content='Evaluate $\\\\left(\\\\frac{i}{2}\\\\right)^2$.')]"
      ]
     },
     "execution_count": 129,
     "metadata": {},
     "output_type": "execute_result"
    }
   ],
   "source": [
    "ans = vectordb.similarity_search(query=query)\n",
    "ans"
   ]
  },
  {
   "cell_type": "code",
   "execution_count": 125,
   "id": "cba206c6",
   "metadata": {},
   "outputs": [],
   "source": [
    "# Loading the database again.\n",
    "embedding_model = HuggingFaceEmbeddings(model_name=\"all-MiniLM-L6-v2\")\n",
    "\n",
    "# Load the Chroma vector store from disk\n",
    "vectordb2 = Chroma(\n",
    "    persist_directory=\"./math_db\",  # same as used during .persist()\n",
    "    embedding_function=embedding_model,\n",
    "    collection_metadata={\"hnsw:space\": \"cosine\"} \n",
    ")"
   ]
  }
 ],
 "metadata": {
  "kernelspec": {
   "display_name": ".venv",
   "language": "python",
   "name": "python3"
  },
  "language_info": {
   "codemirror_mode": {
    "name": "ipython",
    "version": 3
   },
   "file_extension": ".py",
   "mimetype": "text/x-python",
   "name": "python",
   "nbconvert_exporter": "python",
   "pygments_lexer": "ipython3",
   "version": "3.12.3"
  }
 },
 "nbformat": 4,
 "nbformat_minor": 5
}
